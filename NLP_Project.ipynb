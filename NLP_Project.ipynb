{
 "cells": [
  {
   "cell_type": "code",
   "execution_count": 1,
   "metadata": {},
   "outputs": [],
   "source": [
    "import pandas as pd \n",
    "import seaborn as sns \n",
    "import numpy as np \n",
    "import warnings\n",
    "warnings.filterwarnings('ignore')"
   ]
  },
  {
   "cell_type": "code",
   "execution_count": 2,
   "metadata": {},
   "outputs": [],
   "source": [
    "data=pd.read_csv(\"mergedata.csv\")"
   ]
  },
  {
   "cell_type": "code",
   "execution_count": 3,
   "metadata": {},
   "outputs": [
    {
     "data": {
      "text/html": [
       "<div>\n",
       "<style scoped>\n",
       "    .dataframe tbody tr th:only-of-type {\n",
       "        vertical-align: middle;\n",
       "    }\n",
       "\n",
       "    .dataframe tbody tr th {\n",
       "        vertical-align: top;\n",
       "    }\n",
       "\n",
       "    .dataframe thead th {\n",
       "        text-align: right;\n",
       "    }\n",
       "</style>\n",
       "<table border=\"1\" class=\"dataframe\">\n",
       "  <thead>\n",
       "    <tr style=\"text-align: right;\">\n",
       "      <th></th>\n",
       "      <th>Unnamed: 0</th>\n",
       "      <th>web-scraper-order</th>\n",
       "      <th>web-scraper-start-url</th>\n",
       "      <th>Books</th>\n",
       "      <th>Books-href</th>\n",
       "      <th>Author</th>\n",
       "      <th>Abstract</th>\n",
       "      <th>category</th>\n",
       "      <th>views</th>\n",
       "    </tr>\n",
       "  </thead>\n",
       "  <tbody>\n",
       "    <tr>\n",
       "      <th>0</th>\n",
       "      <td>0</td>\n",
       "      <td>1637239114-889</td>\n",
       "      <td>https://www.bookrix.com/books;true-crime,id:51...</td>\n",
       "      <td>The Poisoned Pen</td>\n",
       "      <td>https://www.bookrix.com/_ebook-arthur-b-reeve-...</td>\n",
       "      <td>Arthur B.  Reeve</td>\n",
       "      <td>Kennedy's Suit-Case Was Lying Open On The Bed,...</td>\n",
       "      <td>True Crime</td>\n",
       "      <td>3</td>\n",
       "    </tr>\n",
       "    <tr>\n",
       "      <th>1</th>\n",
       "      <td>1</td>\n",
       "      <td>1637239105-888</td>\n",
       "      <td>https://www.bookrix.com/books;true-crime,id:51...</td>\n",
       "      <td>The History Of A Crime (fiscle part- 4) The Te...</td>\n",
       "      <td>https://www.bookrix.com/_ebook-victor-hugo-the...</td>\n",
       "      <td>Victor Hugo</td>\n",
       "      <td>On December 1, 1851, Charras[1] Shrugged his S...</td>\n",
       "      <td>True Crime</td>\n",
       "      <td>3</td>\n",
       "    </tr>\n",
       "    <tr>\n",
       "      <th>2</th>\n",
       "      <td>2</td>\n",
       "      <td>1637239435-913</td>\n",
       "      <td>https://www.bookrix.com/books;true-crime,id:51...</td>\n",
       "      <td>Grimshaw Mysteries</td>\n",
       "      <td>https://www.bookrix.com/_ebook-kyler-james-gri...</td>\n",
       "      <td>Kyler James</td>\n",
       "      <td>Rick grimshaw is an old school detective in a ...</td>\n",
       "      <td>True Crime</td>\n",
       "      <td>646</td>\n",
       "    </tr>\n",
       "    <tr>\n",
       "      <th>3</th>\n",
       "      <td>3</td>\n",
       "      <td>1637239159-892</td>\n",
       "      <td>https://www.bookrix.com/books;true-crime,id:51...</td>\n",
       "      <td>Maiwa's Revenge</td>\n",
       "      <td>https://www.bookrix.com/_ebook-h-rider-haggard...</td>\n",
       "      <td>H. Rider Haggard</td>\n",
       "      <td>Sir Henry Rider Haggard, KBE (/ˈhæɡərd/; 22 Ju...</td>\n",
       "      <td>True Crime</td>\n",
       "      <td>5</td>\n",
       "    </tr>\n",
       "    <tr>\n",
       "      <th>4</th>\n",
       "      <td>4</td>\n",
       "      <td>1637239684-930</td>\n",
       "      <td>https://www.bookrix.com/books;true-crime,id:51...</td>\n",
       "      <td>Little Too Obsessed</td>\n",
       "      <td>https://www.bookrix.com/_ebook-ashley-arble-li...</td>\n",
       "      <td>Ashley Arble</td>\n",
       "      <td>Danika, a young teenager, can't wait to have k...</td>\n",
       "      <td>True Crime</td>\n",
       "      <td>3701</td>\n",
       "    </tr>\n",
       "    <tr>\n",
       "      <th>...</th>\n",
       "      <td>...</td>\n",
       "      <td>...</td>\n",
       "      <td>...</td>\n",
       "      <td>...</td>\n",
       "      <td>...</td>\n",
       "      <td>...</td>\n",
       "      <td>...</td>\n",
       "      <td>...</td>\n",
       "      <td>...</td>\n",
       "    </tr>\n",
       "    <tr>\n",
       "      <th>589</th>\n",
       "      <td>40</td>\n",
       "      <td>1637654131-1968</td>\n",
       "      <td>https://www.bookrix.com/books;study-aids,id:47...</td>\n",
       "      <td>Alt Text Writing</td>\n",
       "      <td>https://www.bookrix.com/_ebook-kalai-selvi-ari...</td>\n",
       "      <td>Kalai Selvi  Arivalagan</td>\n",
       "      <td>How to write better Alt Text - a branch in con...</td>\n",
       "      <td>Study Aids</td>\n",
       "      <td>874</td>\n",
       "    </tr>\n",
       "    <tr>\n",
       "      <th>590</th>\n",
       "      <td>41</td>\n",
       "      <td>1637654134-1969</td>\n",
       "      <td>https://www.bookrix.com/books;study-aids,id:47...</td>\n",
       "      <td>REPORT ANALYSIS: MAGAZINES IN PAKISTAN</td>\n",
       "      <td>https://www.bookrix.com/_ebook-muhammad-sharje...</td>\n",
       "      <td>Muhammad Sharjeel Ashraf, Sundus Haseeb, Wajee...</td>\n",
       "      <td>The book contains a report on survey conducted...</td>\n",
       "      <td>Study Aids</td>\n",
       "      <td>916</td>\n",
       "    </tr>\n",
       "    <tr>\n",
       "      <th>591</th>\n",
       "      <td>42</td>\n",
       "      <td>1637653725-1930</td>\n",
       "      <td>https://www.bookrix.com/books;study-aids,id:47...</td>\n",
       "      <td>Advice to a Mother on the Management of her Ch...</td>\n",
       "      <td>https://www.bookrix.com/_ebook-pye-henry-chava...</td>\n",
       "      <td>Pye Henry  Chavasse</td>\n",
       "      <td>An infant's clothes, napkins especially, ought...</td>\n",
       "      <td>Study Aids</td>\n",
       "      <td>2</td>\n",
       "    </tr>\n",
       "    <tr>\n",
       "      <th>592</th>\n",
       "      <td>43</td>\n",
       "      <td>1637653766-1932</td>\n",
       "      <td>https://www.bookrix.com/books;study-aids,id:47...</td>\n",
       "      <td>The Head Voice and Other Problems Practical Ta...</td>\n",
       "      <td>https://www.bookrix.com/_ebook-d-a-clippinger-...</td>\n",
       "      <td>D. A.  Clippinger</td>\n",
       "      <td>The following chapters are the outgrowth of an...</td>\n",
       "      <td>Study Aids</td>\n",
       "      <td>2</td>\n",
       "    </tr>\n",
       "    <tr>\n",
       "      <th>593</th>\n",
       "      <td>44</td>\n",
       "      <td>1637653741-1931</td>\n",
       "      <td>https://www.bookrix.com/books;study-aids,id:47...</td>\n",
       "      <td>The Romance of Names</td>\n",
       "      <td>https://www.bookrix.com/_ebook-ernest-weekley-...</td>\n",
       "      <td>Ernest  Weekley</td>\n",
       "      <td>Ernest Weekley (27 April 1865 – 7 May 1954) wa...</td>\n",
       "      <td>Study Aids</td>\n",
       "      <td>2</td>\n",
       "    </tr>\n",
       "  </tbody>\n",
       "</table>\n",
       "<p>594 rows × 9 columns</p>\n",
       "</div>"
      ],
      "text/plain": [
       "     Unnamed: 0 web-scraper-order  \\\n",
       "0             0    1637239114-889   \n",
       "1             1    1637239105-888   \n",
       "2             2    1637239435-913   \n",
       "3             3    1637239159-892   \n",
       "4             4    1637239684-930   \n",
       "..          ...               ...   \n",
       "589          40   1637654131-1968   \n",
       "590          41   1637654134-1969   \n",
       "591          42   1637653725-1930   \n",
       "592          43   1637653766-1932   \n",
       "593          44   1637653741-1931   \n",
       "\n",
       "                                 web-scraper-start-url  \\\n",
       "0    https://www.bookrix.com/books;true-crime,id:51...   \n",
       "1    https://www.bookrix.com/books;true-crime,id:51...   \n",
       "2    https://www.bookrix.com/books;true-crime,id:51...   \n",
       "3    https://www.bookrix.com/books;true-crime,id:51...   \n",
       "4    https://www.bookrix.com/books;true-crime,id:51...   \n",
       "..                                                 ...   \n",
       "589  https://www.bookrix.com/books;study-aids,id:47...   \n",
       "590  https://www.bookrix.com/books;study-aids,id:47...   \n",
       "591  https://www.bookrix.com/books;study-aids,id:47...   \n",
       "592  https://www.bookrix.com/books;study-aids,id:47...   \n",
       "593  https://www.bookrix.com/books;study-aids,id:47...   \n",
       "\n",
       "                                                 Books  \\\n",
       "0                                     The Poisoned Pen   \n",
       "1    The History Of A Crime (fiscle part- 4) The Te...   \n",
       "2                                   Grimshaw Mysteries   \n",
       "3                                      Maiwa's Revenge   \n",
       "4                                  Little Too Obsessed   \n",
       "..                                                 ...   \n",
       "589                                   Alt Text Writing   \n",
       "590             REPORT ANALYSIS: MAGAZINES IN PAKISTAN   \n",
       "591  Advice to a Mother on the Management of her Ch...   \n",
       "592  The Head Voice and Other Problems Practical Ta...   \n",
       "593                               The Romance of Names   \n",
       "\n",
       "                                            Books-href  \\\n",
       "0    https://www.bookrix.com/_ebook-arthur-b-reeve-...   \n",
       "1    https://www.bookrix.com/_ebook-victor-hugo-the...   \n",
       "2    https://www.bookrix.com/_ebook-kyler-james-gri...   \n",
       "3    https://www.bookrix.com/_ebook-h-rider-haggard...   \n",
       "4    https://www.bookrix.com/_ebook-ashley-arble-li...   \n",
       "..                                                 ...   \n",
       "589  https://www.bookrix.com/_ebook-kalai-selvi-ari...   \n",
       "590  https://www.bookrix.com/_ebook-muhammad-sharje...   \n",
       "591  https://www.bookrix.com/_ebook-pye-henry-chava...   \n",
       "592  https://www.bookrix.com/_ebook-d-a-clippinger-...   \n",
       "593  https://www.bookrix.com/_ebook-ernest-weekley-...   \n",
       "\n",
       "                                                Author  \\\n",
       "0                                     Arthur B.  Reeve   \n",
       "1                                          Victor Hugo   \n",
       "2                                          Kyler James   \n",
       "3                                     H. Rider Haggard   \n",
       "4                                         Ashley Arble   \n",
       "..                                                 ...   \n",
       "589                            Kalai Selvi  Arivalagan   \n",
       "590  Muhammad Sharjeel Ashraf, Sundus Haseeb, Wajee...   \n",
       "591                                Pye Henry  Chavasse   \n",
       "592                                  D. A.  Clippinger   \n",
       "593                                    Ernest  Weekley   \n",
       "\n",
       "                                              Abstract    category  views  \n",
       "0    Kennedy's Suit-Case Was Lying Open On The Bed,...  True Crime      3  \n",
       "1    On December 1, 1851, Charras[1] Shrugged his S...  True Crime      3  \n",
       "2    Rick grimshaw is an old school detective in a ...  True Crime    646  \n",
       "3    Sir Henry Rider Haggard, KBE (/ˈhæɡərd/; 22 Ju...  True Crime      5  \n",
       "4    Danika, a young teenager, can't wait to have k...  True Crime   3701  \n",
       "..                                                 ...         ...    ...  \n",
       "589  How to write better Alt Text - a branch in con...  Study Aids    874  \n",
       "590  The book contains a report on survey conducted...  Study Aids    916  \n",
       "591  An infant's clothes, napkins especially, ought...  Study Aids      2  \n",
       "592  The following chapters are the outgrowth of an...  Study Aids      2  \n",
       "593  Ernest Weekley (27 April 1865 – 7 May 1954) wa...  Study Aids      2  \n",
       "\n",
       "[594 rows x 9 columns]"
      ]
     },
     "execution_count": 3,
     "metadata": {},
     "output_type": "execute_result"
    }
   ],
   "source": [
    "data"
   ]
  },
  {
   "cell_type": "code",
   "execution_count": 4,
   "metadata": {},
   "outputs": [
    {
     "data": {
      "text/plain": [
       "(594, 9)"
      ]
     },
     "execution_count": 4,
     "metadata": {},
     "output_type": "execute_result"
    }
   ],
   "source": [
    "data.shape"
   ]
  },
  {
   "cell_type": "markdown",
   "metadata": {},
   "source": [
    "# Data Cleaning"
   ]
  },
  {
   "cell_type": "code",
   "execution_count": 5,
   "metadata": {},
   "outputs": [
    {
     "name": "stdout",
     "output_type": "stream",
     "text": [
      "<class 'pandas.core.frame.DataFrame'>\n",
      "RangeIndex: 594 entries, 0 to 593\n",
      "Data columns (total 9 columns):\n",
      " #   Column                 Non-Null Count  Dtype \n",
      "---  ------                 --------------  ----- \n",
      " 0   Unnamed: 0             594 non-null    int64 \n",
      " 1   web-scraper-order      594 non-null    object\n",
      " 2   web-scraper-start-url  594 non-null    object\n",
      " 3   Books                  594 non-null    object\n",
      " 4   Books-href             594 non-null    object\n",
      " 5   Author                 594 non-null    object\n",
      " 6   Abstract               594 non-null    object\n",
      " 7   category               594 non-null    object\n",
      " 8   views                  594 non-null    int64 \n",
      "dtypes: int64(2), object(7)\n",
      "memory usage: 41.9+ KB\n"
     ]
    }
   ],
   "source": [
    "data.info()"
   ]
  },
  {
   "cell_type": "code",
   "execution_count": 6,
   "metadata": {},
   "outputs": [
    {
     "data": {
      "text/html": [
       "<div>\n",
       "<style scoped>\n",
       "    .dataframe tbody tr th:only-of-type {\n",
       "        vertical-align: middle;\n",
       "    }\n",
       "\n",
       "    .dataframe tbody tr th {\n",
       "        vertical-align: top;\n",
       "    }\n",
       "\n",
       "    .dataframe thead th {\n",
       "        text-align: right;\n",
       "    }\n",
       "</style>\n",
       "<table border=\"1\" class=\"dataframe\">\n",
       "  <thead>\n",
       "    <tr style=\"text-align: right;\">\n",
       "      <th></th>\n",
       "      <th>Unnamed: 0</th>\n",
       "      <th>views</th>\n",
       "    </tr>\n",
       "  </thead>\n",
       "  <tbody>\n",
       "    <tr>\n",
       "      <th>count</th>\n",
       "      <td>594.000000</td>\n",
       "      <td>594.000000</td>\n",
       "    </tr>\n",
       "    <tr>\n",
       "      <th>mean</th>\n",
       "      <td>29.587542</td>\n",
       "      <td>1323.358586</td>\n",
       "    </tr>\n",
       "    <tr>\n",
       "      <th>std</th>\n",
       "      <td>19.708155</td>\n",
       "      <td>7267.847305</td>\n",
       "    </tr>\n",
       "    <tr>\n",
       "      <th>min</th>\n",
       "      <td>0.000000</td>\n",
       "      <td>0.000000</td>\n",
       "    </tr>\n",
       "    <tr>\n",
       "      <th>25%</th>\n",
       "      <td>13.000000</td>\n",
       "      <td>2.000000</td>\n",
       "    </tr>\n",
       "    <tr>\n",
       "      <th>50%</th>\n",
       "      <td>27.000000</td>\n",
       "      <td>3.000000</td>\n",
       "    </tr>\n",
       "    <tr>\n",
       "      <th>75%</th>\n",
       "      <td>45.000000</td>\n",
       "      <td>705.500000</td>\n",
       "    </tr>\n",
       "    <tr>\n",
       "      <th>max</th>\n",
       "      <td>83.000000</td>\n",
       "      <td>147010.000000</td>\n",
       "    </tr>\n",
       "  </tbody>\n",
       "</table>\n",
       "</div>"
      ],
      "text/plain": [
       "       Unnamed: 0          views\n",
       "count  594.000000     594.000000\n",
       "mean    29.587542    1323.358586\n",
       "std     19.708155    7267.847305\n",
       "min      0.000000       0.000000\n",
       "25%     13.000000       2.000000\n",
       "50%     27.000000       3.000000\n",
       "75%     45.000000     705.500000\n",
       "max     83.000000  147010.000000"
      ]
     },
     "execution_count": 6,
     "metadata": {},
     "output_type": "execute_result"
    }
   ],
   "source": [
    "data.describe()"
   ]
  },
  {
   "cell_type": "code",
   "execution_count": 7,
   "metadata": {},
   "outputs": [],
   "source": [
    "#Removing unwanted columns\n",
    "data.drop(['Unnamed: 0','web-scraper-order','web-scraper-start-url','Books-href','views'],axis=1,inplace=True)"
   ]
  },
  {
   "cell_type": "code",
   "execution_count": 8,
   "metadata": {},
   "outputs": [
    {
     "data": {
      "text/html": [
       "<div>\n",
       "<style scoped>\n",
       "    .dataframe tbody tr th:only-of-type {\n",
       "        vertical-align: middle;\n",
       "    }\n",
       "\n",
       "    .dataframe tbody tr th {\n",
       "        vertical-align: top;\n",
       "    }\n",
       "\n",
       "    .dataframe thead th {\n",
       "        text-align: right;\n",
       "    }\n",
       "</style>\n",
       "<table border=\"1\" class=\"dataframe\">\n",
       "  <thead>\n",
       "    <tr style=\"text-align: right;\">\n",
       "      <th></th>\n",
       "      <th>Books</th>\n",
       "      <th>Author</th>\n",
       "      <th>Abstract</th>\n",
       "      <th>category</th>\n",
       "    </tr>\n",
       "  </thead>\n",
       "  <tbody>\n",
       "    <tr>\n",
       "      <th>0</th>\n",
       "      <td>The Poisoned Pen</td>\n",
       "      <td>Arthur B.  Reeve</td>\n",
       "      <td>Kennedy's Suit-Case Was Lying Open On The Bed,...</td>\n",
       "      <td>True Crime</td>\n",
       "    </tr>\n",
       "    <tr>\n",
       "      <th>1</th>\n",
       "      <td>The History Of A Crime (fiscle part- 4) The Te...</td>\n",
       "      <td>Victor Hugo</td>\n",
       "      <td>On December 1, 1851, Charras[1] Shrugged his S...</td>\n",
       "      <td>True Crime</td>\n",
       "    </tr>\n",
       "    <tr>\n",
       "      <th>2</th>\n",
       "      <td>Grimshaw Mysteries</td>\n",
       "      <td>Kyler James</td>\n",
       "      <td>Rick grimshaw is an old school detective in a ...</td>\n",
       "      <td>True Crime</td>\n",
       "    </tr>\n",
       "    <tr>\n",
       "      <th>3</th>\n",
       "      <td>Maiwa's Revenge</td>\n",
       "      <td>H. Rider Haggard</td>\n",
       "      <td>Sir Henry Rider Haggard, KBE (/ˈhæɡərd/; 22 Ju...</td>\n",
       "      <td>True Crime</td>\n",
       "    </tr>\n",
       "    <tr>\n",
       "      <th>4</th>\n",
       "      <td>Little Too Obsessed</td>\n",
       "      <td>Ashley Arble</td>\n",
       "      <td>Danika, a young teenager, can't wait to have k...</td>\n",
       "      <td>True Crime</td>\n",
       "    </tr>\n",
       "    <tr>\n",
       "      <th>...</th>\n",
       "      <td>...</td>\n",
       "      <td>...</td>\n",
       "      <td>...</td>\n",
       "      <td>...</td>\n",
       "    </tr>\n",
       "    <tr>\n",
       "      <th>589</th>\n",
       "      <td>Alt Text Writing</td>\n",
       "      <td>Kalai Selvi  Arivalagan</td>\n",
       "      <td>How to write better Alt Text - a branch in con...</td>\n",
       "      <td>Study Aids</td>\n",
       "    </tr>\n",
       "    <tr>\n",
       "      <th>590</th>\n",
       "      <td>REPORT ANALYSIS: MAGAZINES IN PAKISTAN</td>\n",
       "      <td>Muhammad Sharjeel Ashraf, Sundus Haseeb, Wajee...</td>\n",
       "      <td>The book contains a report on survey conducted...</td>\n",
       "      <td>Study Aids</td>\n",
       "    </tr>\n",
       "    <tr>\n",
       "      <th>591</th>\n",
       "      <td>Advice to a Mother on the Management of her Ch...</td>\n",
       "      <td>Pye Henry  Chavasse</td>\n",
       "      <td>An infant's clothes, napkins especially, ought...</td>\n",
       "      <td>Study Aids</td>\n",
       "    </tr>\n",
       "    <tr>\n",
       "      <th>592</th>\n",
       "      <td>The Head Voice and Other Problems Practical Ta...</td>\n",
       "      <td>D. A.  Clippinger</td>\n",
       "      <td>The following chapters are the outgrowth of an...</td>\n",
       "      <td>Study Aids</td>\n",
       "    </tr>\n",
       "    <tr>\n",
       "      <th>593</th>\n",
       "      <td>The Romance of Names</td>\n",
       "      <td>Ernest  Weekley</td>\n",
       "      <td>Ernest Weekley (27 April 1865 – 7 May 1954) wa...</td>\n",
       "      <td>Study Aids</td>\n",
       "    </tr>\n",
       "  </tbody>\n",
       "</table>\n",
       "<p>594 rows × 4 columns</p>\n",
       "</div>"
      ],
      "text/plain": [
       "                                                 Books  \\\n",
       "0                                     The Poisoned Pen   \n",
       "1    The History Of A Crime (fiscle part- 4) The Te...   \n",
       "2                                   Grimshaw Mysteries   \n",
       "3                                      Maiwa's Revenge   \n",
       "4                                  Little Too Obsessed   \n",
       "..                                                 ...   \n",
       "589                                   Alt Text Writing   \n",
       "590             REPORT ANALYSIS: MAGAZINES IN PAKISTAN   \n",
       "591  Advice to a Mother on the Management of her Ch...   \n",
       "592  The Head Voice and Other Problems Practical Ta...   \n",
       "593                               The Romance of Names   \n",
       "\n",
       "                                                Author  \\\n",
       "0                                     Arthur B.  Reeve   \n",
       "1                                          Victor Hugo   \n",
       "2                                          Kyler James   \n",
       "3                                     H. Rider Haggard   \n",
       "4                                         Ashley Arble   \n",
       "..                                                 ...   \n",
       "589                            Kalai Selvi  Arivalagan   \n",
       "590  Muhammad Sharjeel Ashraf, Sundus Haseeb, Wajee...   \n",
       "591                                Pye Henry  Chavasse   \n",
       "592                                  D. A.  Clippinger   \n",
       "593                                    Ernest  Weekley   \n",
       "\n",
       "                                              Abstract    category  \n",
       "0    Kennedy's Suit-Case Was Lying Open On The Bed,...  True Crime  \n",
       "1    On December 1, 1851, Charras[1] Shrugged his S...  True Crime  \n",
       "2    Rick grimshaw is an old school detective in a ...  True Crime  \n",
       "3    Sir Henry Rider Haggard, KBE (/ˈhæɡərd/; 22 Ju...  True Crime  \n",
       "4    Danika, a young teenager, can't wait to have k...  True Crime  \n",
       "..                                                 ...         ...  \n",
       "589  How to write better Alt Text - a branch in con...  Study Aids  \n",
       "590  The book contains a report on survey conducted...  Study Aids  \n",
       "591  An infant's clothes, napkins especially, ought...  Study Aids  \n",
       "592  The following chapters are the outgrowth of an...  Study Aids  \n",
       "593  Ernest Weekley (27 April 1865 – 7 May 1954) wa...  Study Aids  \n",
       "\n",
       "[594 rows x 4 columns]"
      ]
     },
     "execution_count": 8,
     "metadata": {},
     "output_type": "execute_result"
    }
   ],
   "source": [
    "data"
   ]
  },
  {
   "cell_type": "code",
   "execution_count": 9,
   "metadata": {},
   "outputs": [
    {
     "data": {
      "text/html": [
       "<div>\n",
       "<style scoped>\n",
       "    .dataframe tbody tr th:only-of-type {\n",
       "        vertical-align: middle;\n",
       "    }\n",
       "\n",
       "    .dataframe tbody tr th {\n",
       "        vertical-align: top;\n",
       "    }\n",
       "\n",
       "    .dataframe thead th {\n",
       "        text-align: right;\n",
       "    }\n",
       "</style>\n",
       "<table border=\"1\" class=\"dataframe\">\n",
       "  <thead>\n",
       "    <tr style=\"text-align: right;\">\n",
       "      <th></th>\n",
       "      <th>Books</th>\n",
       "      <th>Author</th>\n",
       "      <th>Abstract</th>\n",
       "      <th>category</th>\n",
       "    </tr>\n",
       "  </thead>\n",
       "  <tbody>\n",
       "    <tr>\n",
       "      <th>0</th>\n",
       "      <td>The Poisoned Pen</td>\n",
       "      <td>Arthur B.  Reeve</td>\n",
       "      <td>Kennedy's Suit-Case Was Lying Open On The Bed,...</td>\n",
       "      <td>10</td>\n",
       "    </tr>\n",
       "    <tr>\n",
       "      <th>1</th>\n",
       "      <td>The History Of A Crime (fiscle part- 4) The Te...</td>\n",
       "      <td>Victor Hugo</td>\n",
       "      <td>On December 1, 1851, Charras[1] Shrugged his S...</td>\n",
       "      <td>10</td>\n",
       "    </tr>\n",
       "    <tr>\n",
       "      <th>2</th>\n",
       "      <td>Grimshaw Mysteries</td>\n",
       "      <td>Kyler James</td>\n",
       "      <td>Rick grimshaw is an old school detective in a ...</td>\n",
       "      <td>10</td>\n",
       "    </tr>\n",
       "    <tr>\n",
       "      <th>3</th>\n",
       "      <td>Maiwa's Revenge</td>\n",
       "      <td>H. Rider Haggard</td>\n",
       "      <td>Sir Henry Rider Haggard, KBE (/ˈhæɡərd/; 22 Ju...</td>\n",
       "      <td>10</td>\n",
       "    </tr>\n",
       "    <tr>\n",
       "      <th>4</th>\n",
       "      <td>Little Too Obsessed</td>\n",
       "      <td>Ashley Arble</td>\n",
       "      <td>Danika, a young teenager, can't wait to have k...</td>\n",
       "      <td>10</td>\n",
       "    </tr>\n",
       "  </tbody>\n",
       "</table>\n",
       "</div>"
      ],
      "text/plain": [
       "                                               Books            Author  \\\n",
       "0                                   The Poisoned Pen  Arthur B.  Reeve   \n",
       "1  The History Of A Crime (fiscle part- 4) The Te...       Victor Hugo   \n",
       "2                                 Grimshaw Mysteries       Kyler James   \n",
       "3                                    Maiwa's Revenge  H. Rider Haggard   \n",
       "4                                Little Too Obsessed      Ashley Arble   \n",
       "\n",
       "                                            Abstract  category  \n",
       "0  Kennedy's Suit-Case Was Lying Open On The Bed,...        10  \n",
       "1  On December 1, 1851, Charras[1] Shrugged his S...        10  \n",
       "2  Rick grimshaw is an old school detective in a ...        10  \n",
       "3  Sir Henry Rider Haggard, KBE (/ˈhæɡərd/; 22 Ju...        10  \n",
       "4  Danika, a young teenager, can't wait to have k...        10  "
      ]
     },
     "execution_count": 9,
     "metadata": {},
     "output_type": "execute_result"
    }
   ],
   "source": [
    "from sklearn.preprocessing import LabelEncoder\n",
    "encoder=LabelEncoder()\n",
    "data['category']=encoder.fit_transform(data['category'])\n",
    "data.head()"
   ]
  },
  {
   "cell_type": "code",
   "execution_count": 10,
   "metadata": {},
   "outputs": [
    {
     "data": {
      "text/plain": [
       "Books       0\n",
       "Author      0\n",
       "Abstract    0\n",
       "category    0\n",
       "dtype: int64"
      ]
     },
     "execution_count": 10,
     "metadata": {},
     "output_type": "execute_result"
    }
   ],
   "source": [
    "data.isnull().sum()"
   ]
  },
  {
   "cell_type": "markdown",
   "metadata": {},
   "source": [
    "#  EDA"
   ]
  },
  {
   "cell_type": "code",
   "execution_count": 11,
   "metadata": {},
   "outputs": [
    {
     "data": {
      "text/plain": [
       "1     84\n",
       "10    71\n",
       "6     63\n",
       "2     63\n",
       "0     63\n",
       "3     61\n",
       "8     60\n",
       "7     45\n",
       "5     33\n",
       "4     27\n",
       "9     24\n",
       "Name: category, dtype: int64"
      ]
     },
     "execution_count": 11,
     "metadata": {},
     "output_type": "execute_result"
    }
   ],
   "source": [
    "data['category'].value_counts()"
   ]
  },
  {
   "cell_type": "code",
   "execution_count": 12,
   "metadata": {},
   "outputs": [
    {
     "data": {
      "text/plain": [
       "<function matplotlib.pyplot.show(close=None, block=None)>"
      ]
     },
     "execution_count": 12,
     "metadata": {},
     "output_type": "execute_result"
    },
    {
     "data": {
      "image/png": "[encoded data removed]",
      "text/plain": [
       "<Figure size 432x288 with 1 Axes>"
      ]
     },
     "metadata": {},
     "output_type": "display_data"
    }
   ],
   "source": [
    "import matplotlib.pyplot as plt\n",
    "plt.pie(data['category'].value_counts(),labels=['True Crime ','Law','Study Aids','Thriller','Transportation','House and Home','Psychology','Architecture','Medical','Language & Literature','Mathematics'],autopct=\"%0.2f\")\n",
    "plt.show"
   ]
  },
  {
   "cell_type": "code",
   "execution_count": 13,
   "metadata": {},
   "outputs": [
    {
     "name": "stderr",
     "output_type": "stream",
     "text": [
      "[nltk_data] Downloading package punkt to C:\\Users\\SaMMy\n",
      "[nltk_data]     INaMdaR\\AppData\\Roaming\\nltk_data...\n",
      "[nltk_data]   Package punkt is already up-to-date!\n"
     ]
    },
    {
     "data": {
      "text/plain": [
       "True"
      ]
     },
     "execution_count": 13,
     "metadata": {},
     "output_type": "execute_result"
    }
   ],
   "source": [
    "import nltk\n",
    "nltk.download('punkt')"
   ]
  },
  {
   "cell_type": "markdown",
   "metadata": {},
   "source": [
    "#  Visualization"
   ]
  },
  {
   "cell_type": "code",
   "execution_count": 14,
   "metadata": {},
   "outputs": [
    {
     "data": {
      "text/plain": [
       "<AxesSubplot:xlabel='category', ylabel='Density'>"
      ]
     },
     "execution_count": 14,
     "metadata": {},
     "output_type": "execute_result"
    },
    {
     "data": {
      "image/png": "[encoded data removed]",
      "text/plain": [
       "<Figure size 432x288 with 1 Axes>"
      ]
     },
     "metadata": {
      "needs_background": "light"
     },
     "output_type": "display_data"
    }
   ],
   "source": [
    "sns.distplot(data['category'])"
   ]
  },
  {
   "cell_type": "code",
   "execution_count": 15,
   "metadata": {},
   "outputs": [
    {
     "data": {
      "text/plain": [
       "<AxesSubplot:>"
      ]
     },
     "execution_count": 15,
     "metadata": {},
     "output_type": "execute_result"
    },
    {
     "data": {
      "image/png": "[encoded data removed]",
      "text/plain": [
       "<Figure size 432x288 with 1 Axes>"
      ]
     },
     "metadata": {
      "needs_background": "light"
     },
     "output_type": "display_data"
    }
   ],
   "source": [
    "sns.boxplot(data=data)"
   ]
  },
  {
   "cell_type": "code",
   "execution_count": 16,
   "metadata": {},
   "outputs": [
    {
     "data": {
      "text/html": [
       "<div>\n",
       "<style scoped>\n",
       "    .dataframe tbody tr th:only-of-type {\n",
       "        vertical-align: middle;\n",
       "    }\n",
       "\n",
       "    .dataframe tbody tr th {\n",
       "        vertical-align: top;\n",
       "    }\n",
       "\n",
       "    .dataframe thead th {\n",
       "        text-align: right;\n",
       "    }\n",
       "</style>\n",
       "<table border=\"1\" class=\"dataframe\">\n",
       "  <thead>\n",
       "    <tr style=\"text-align: right;\">\n",
       "      <th></th>\n",
       "      <th>category</th>\n",
       "    </tr>\n",
       "  </thead>\n",
       "  <tbody>\n",
       "    <tr>\n",
       "      <th>category</th>\n",
       "      <td>1.0</td>\n",
       "    </tr>\n",
       "  </tbody>\n",
       "</table>\n",
       "</div>"
      ],
      "text/plain": [
       "          category\n",
       "category       1.0"
      ]
     },
     "execution_count": 16,
     "metadata": {},
     "output_type": "execute_result"
    }
   ],
   "source": [
    "data.corr()"
   ]
  },
  {
   "cell_type": "markdown",
   "metadata": {},
   "source": [
    "# Data Preprocessing"
   ]
  },
  {
   "cell_type": "code",
   "execution_count": 17,
   "metadata": {},
   "outputs": [],
   "source": [
    "from nltk.corpus import stopwords\n",
    "import string\n",
    "string.punctuation\n",
    "from nltk.stem.porter import PorterStemmer\n",
    "ps=PorterStemmer()\n",
    "\n",
    "\n",
    "def transform_text(text):\n",
    "    text=text.lower()   #lower\n",
    "    text=nltk.word_tokenize(text) #tokenize \n",
    "    \n",
    "    y=[]\n",
    "    for i in text:\n",
    "        if i.isalnum():\n",
    "            y.append(i)\n",
    "           \n",
    "    text=y[:]  \n",
    "    y.clear()\n",
    "    \n",
    "    for i in text:\n",
    "        if i not in stopwords.words('english')and i not in string.punctuation:   #Removing StopWords\n",
    "            y.append(i)\n",
    "         \n",
    "    text=y[:]\n",
    "    y.clear()\n",
    "    \n",
    "    for i in text:\n",
    "        y.append(ps.stem(i))   #Stemming\n",
    "    \n",
    "    return \" \".join(y)"
   ]
  },
  {
   "cell_type": "code",
   "execution_count": 18,
   "metadata": {},
   "outputs": [
    {
     "data": {
      "text/html": [
       "<div>\n",
       "<style scoped>\n",
       "    .dataframe tbody tr th:only-of-type {\n",
       "        vertical-align: middle;\n",
       "    }\n",
       "\n",
       "    .dataframe tbody tr th {\n",
       "        vertical-align: top;\n",
       "    }\n",
       "\n",
       "    .dataframe thead th {\n",
       "        text-align: right;\n",
       "    }\n",
       "</style>\n",
       "<table border=\"1\" class=\"dataframe\">\n",
       "  <thead>\n",
       "    <tr style=\"text-align: right;\">\n",
       "      <th></th>\n",
       "      <th>Books</th>\n",
       "      <th>Author</th>\n",
       "      <th>Abstract</th>\n",
       "      <th>category</th>\n",
       "      <th>transformed_text</th>\n",
       "    </tr>\n",
       "  </thead>\n",
       "  <tbody>\n",
       "    <tr>\n",
       "      <th>0</th>\n",
       "      <td>The Poisoned Pen</td>\n",
       "      <td>Arthur B.  Reeve</td>\n",
       "      <td>Kennedy's Suit-Case Was Lying Open On The Bed,...</td>\n",
       "      <td>10</td>\n",
       "      <td>kennedi lie open bed liter throw thing chiffon...</td>\n",
       "    </tr>\n",
       "    <tr>\n",
       "      <th>1</th>\n",
       "      <td>The History Of A Crime (fiscle part- 4) The Te...</td>\n",
       "      <td>Victor Hugo</td>\n",
       "      <td>On December 1, 1851, Charras[1] Shrugged his S...</td>\n",
       "      <td>10</td>\n",
       "      <td>decemb 1 1851 charra 1 shrug shoulder unload p...</td>\n",
       "    </tr>\n",
       "    <tr>\n",
       "      <th>2</th>\n",
       "      <td>Grimshaw Mysteries</td>\n",
       "      <td>Kyler James</td>\n",
       "      <td>Rick grimshaw is an old school detective in a ...</td>\n",
       "      <td>10</td>\n",
       "      <td>rick grimshaw old school detect new world tech...</td>\n",
       "    </tr>\n",
       "    <tr>\n",
       "      <th>3</th>\n",
       "      <td>Maiwa's Revenge</td>\n",
       "      <td>H. Rider Haggard</td>\n",
       "      <td>Sir Henry Rider Haggard, KBE (/ˈhæɡərd/; 22 Ju...</td>\n",
       "      <td>10</td>\n",
       "      <td>sir henri rider haggard kbe 22 june 1856 14 ma...</td>\n",
       "    </tr>\n",
       "    <tr>\n",
       "      <th>4</th>\n",
       "      <td>Little Too Obsessed</td>\n",
       "      <td>Ashley Arble</td>\n",
       "      <td>Danika, a young teenager, can't wait to have k...</td>\n",
       "      <td>10</td>\n",
       "      <td>danika young teenag ca wait kid buy babi doll ...</td>\n",
       "    </tr>\n",
       "  </tbody>\n",
       "</table>\n",
       "</div>"
      ],
      "text/plain": [
       "                                               Books            Author  \\\n",
       "0                                   The Poisoned Pen  Arthur B.  Reeve   \n",
       "1  The History Of A Crime (fiscle part- 4) The Te...       Victor Hugo   \n",
       "2                                 Grimshaw Mysteries       Kyler James   \n",
       "3                                    Maiwa's Revenge  H. Rider Haggard   \n",
       "4                                Little Too Obsessed      Ashley Arble   \n",
       "\n",
       "                                            Abstract  category  \\\n",
       "0  Kennedy's Suit-Case Was Lying Open On The Bed,...        10   \n",
       "1  On December 1, 1851, Charras[1] Shrugged his S...        10   \n",
       "2  Rick grimshaw is an old school detective in a ...        10   \n",
       "3  Sir Henry Rider Haggard, KBE (/ˈhæɡərd/; 22 Ju...        10   \n",
       "4  Danika, a young teenager, can't wait to have k...        10   \n",
       "\n",
       "                                    transformed_text  \n",
       "0  kennedi lie open bed liter throw thing chiffon...  \n",
       "1  decemb 1 1851 charra 1 shrug shoulder unload p...  \n",
       "2  rick grimshaw old school detect new world tech...  \n",
       "3  sir henri rider haggard kbe 22 june 1856 14 ma...  \n",
       "4  danika young teenag ca wait kid buy babi doll ...  "
      ]
     },
     "execution_count": 18,
     "metadata": {},
     "output_type": "execute_result"
    }
   ],
   "source": [
    "data['transformed_text']=data['Abstract'].apply(transform_text)\n",
    "data.head()"
   ]
  },
  {
   "cell_type": "code",
   "execution_count": 19,
   "metadata": {},
   "outputs": [
    {
     "data": {
      "text/plain": [
       "<matplotlib.image.AxesImage at 0x184f42d7070>"
      ]
     },
     "execution_count": 19,
     "metadata": {},
     "output_type": "execute_result"
    },
    {
     "data": {
      "image/png": "[encoded data removed]",
      "text/plain": [
       "<Figure size 1440x720 with 1 Axes>"
      ]
     },
     "metadata": {
      "needs_background": "light"
     },
     "output_type": "display_data"
    }
   ],
   "source": [
    "from wordcloud import WordCloud\n",
    "wc=WordCloud(width=500,height=500,min_font_size=10,background_color='black')\n",
    "true_crime_wc=wc.generate(data[data['category']==10]['transformed_text'].str.cat(sep=\"\"))\n",
    "plt.figure(figsize=(20,10))\n",
    "plt.imshow(true_crime_wc)"
   ]
  },
  {
   "cell_type": "code",
   "execution_count": 20,
   "metadata": {},
   "outputs": [
    {
     "data": {
      "image/png": "[encoded data removed]",
      "text/plain": [
       "<Figure size 432x288 with 1 Axes>"
      ]
     },
     "metadata": {
      "needs_background": "light"
     },
     "output_type": "display_data"
    }
   ],
   "source": [
    "true_crime_corpus=[]\n",
    "for msg in data[data['category']==10]['transformed_text'].tolist():\n",
    "    for word in msg.split():\n",
    "        true_crime_corpus.append(word)\n",
    "        \n",
    "from collections import Counter\n",
    "sns.barplot(pd.DataFrame(Counter(true_crime_corpus).most_common(30))[0],pd.DataFrame(Counter(true_crime_corpus).most_common(30))[1])\n",
    "plt.xticks(rotation='vertical')\n",
    "plt.show()        "
   ]
  },
  {
   "cell_type": "markdown",
   "metadata": {},
   "source": [
    "#  Model Building"
   ]
  },
  {
   "cell_type": "code",
   "execution_count": 21,
   "metadata": {},
   "outputs": [],
   "source": [
    "from sklearn.feature_extraction.text import CountVectorizer,TfidfVectorizer\n",
    "import pickle\n",
    "cv=CountVectorizer()\n",
    "vectorizer=TfidfVectorizer(max_features=100)"
   ]
  },
  {
   "cell_type": "code",
   "execution_count": 22,
   "metadata": {},
   "outputs": [],
   "source": [
    "X=vectorizer.fit_transform(data['transformed_text'])"
   ]
  },
  {
   "cell_type": "code",
   "execution_count": 23,
   "metadata": {},
   "outputs": [],
   "source": [
    "y=data['category'].values"
   ]
  },
  {
   "cell_type": "code",
   "execution_count": 24,
   "metadata": {},
   "outputs": [
    {
     "name": "stdout",
     "output_type": "stream",
     "text": [
      "Class=10, n=71 (11.953%)\n",
      "Class=8, n=60 (10.101%)\n",
      "Class=9, n=24 (4.040%)\n",
      "Class=1, n=84 (14.141%)\n",
      "Class=3, n=61 (10.269%)\n",
      "Class=6, n=63 (10.606%)\n",
      "Class=0, n=63 (10.606%)\n",
      "Class=5, n=33 (5.556%)\n",
      "Class=2, n=63 (10.606%)\n",
      "Class=4, n=27 (4.545%)\n",
      "Class=7, n=45 (7.576%)\n"
     ]
    }
   ],
   "source": [
    "counter = Counter(y)\n",
    "for k,v in counter.items():\n",
    "    per = v / len(y) * 100\n",
    "    print('Class=%d, n=%d (%.3f%%)' % (k, v, per))"
   ]
  },
  {
   "cell_type": "markdown",
   "metadata": {},
   "source": [
    "#  Balancing the data"
   ]
  },
  {
   "cell_type": "code",
   "execution_count": 25,
   "metadata": {},
   "outputs": [],
   "source": [
    "from collections import Counter\n",
    "from imblearn.over_sampling import RandomOverSampler \n",
    "ros = RandomOverSampler(random_state=42)\n",
    "X_res,y_res = ros.fit_resample(X, y)"
   ]
  },
  {
   "cell_type": "code",
   "execution_count": 26,
   "metadata": {},
   "outputs": [
    {
     "name": "stdout",
     "output_type": "stream",
     "text": [
      "Class=10, n=84 (9.091%)\n",
      "Class=8, n=84 (9.091%)\n",
      "Class=9, n=84 (9.091%)\n",
      "Class=1, n=84 (9.091%)\n",
      "Class=3, n=84 (9.091%)\n",
      "Class=6, n=84 (9.091%)\n",
      "Class=0, n=84 (9.091%)\n",
      "Class=5, n=84 (9.091%)\n",
      "Class=2, n=84 (9.091%)\n",
      "Class=4, n=84 (9.091%)\n",
      "Class=7, n=84 (9.091%)\n"
     ]
    }
   ],
   "source": [
    "counter = Counter(y_res)\n",
    "for k,v in counter.items():\n",
    "    per = v / len(y_res) * 100\n",
    "    print('Class=%d, n=%d (%.3f%%)' % (k, v, per))"
   ]
  },
  {
   "cell_type": "code",
   "execution_count": 27,
   "metadata": {},
   "outputs": [],
   "source": [
    "from sklearn.model_selection import train_test_split\n",
    "X_res_train,X_res_test,y_res_train,y_res_test=train_test_split(X_res,y_res,test_size=0.2,random_state=2)"
   ]
  },
  {
   "cell_type": "code",
   "execution_count": 28,
   "metadata": {},
   "outputs": [],
   "source": [
    "from sklearn.linear_model import LogisticRegression\n",
    "from sklearn.svm import SVC\n",
    "from sklearn.naive_bayes import MultinomialNB\n",
    "from sklearn.tree import DecisionTreeClassifier\n",
    "from sklearn.neighbors import KNeighborsClassifier\n",
    "from sklearn.ensemble import RandomForestClassifier\n",
    "from sklearn.metrics import accuracy_score,confusion_matrix,precision_score,recall_score,f1_score"
   ]
  },
  {
   "cell_type": "code",
   "execution_count": 29,
   "metadata": {},
   "outputs": [],
   "source": [
    "svc=SVC(kernel='sigmoid',gamma=2.0)\n",
    "knc=KNeighborsClassifier()\n",
    "mnb=MultinomialNB()\n",
    "dtc=DecisionTreeClassifier(max_depth=5)\n",
    "lrc=LogisticRegression(solver='liblinear',penalty='l1')\n",
    "rfc=RandomForestClassifier(n_estimators=50,random_state=2)"
   ]
  },
  {
   "cell_type": "code",
   "execution_count": 30,
   "metadata": {},
   "outputs": [],
   "source": [
    "clfs={\n",
    "    'SVC':svc,\n",
    "    'KN':knc,\n",
    "    'NB':mnb,\n",
    "    'DT':dtc,\n",
    "    'LR':lrc,\n",
    "    'RF':rfc\n",
    "}"
   ]
  },
  {
   "cell_type": "code",
   "execution_count": 31,
   "metadata": {},
   "outputs": [],
   "source": [
    "def test_classifier(clf,X_res_train,X_res_test,y_res_train,y_res_test):\n",
    "    clf.fit(X_res_test,y_res_test)\n",
    "    y_pred=clf.predict(X_res_test)\n",
    "    accuracy=accuracy_score(y_res_test,y_pred)\n",
    "    precision=precision_score(y_res_test,y_pred,average='weighted')\n",
    "    recall=recall_score(y_res_test,y_pred,average='weighted')\n",
    "    f1=f1_score(y_res_test,y_pred,average='weighted')\n",
    "    \n",
    "    return accuracy,precision,recall,f1"
   ]
  },
  {
   "cell_type": "code",
   "execution_count": 32,
   "metadata": {},
   "outputs": [
    {
     "name": "stdout",
     "output_type": "stream",
     "text": [
      "For - SVC\n",
      "Accuracy - 0.42702702702702705\n",
      "precision - 0.45698466323466325\n",
      "recall - 0.42702702702702705\n",
      "f1 - 0.4279095182716128\n",
      "For - KN\n",
      "Accuracy - 0.4864864864864865\n",
      "precision - 0.671705316139581\n",
      "recall - 0.4864864864864865\n",
      "f1 - 0.48595600039098485\n",
      "For - NB\n",
      "Accuracy - 0.654054054054054\n",
      "precision - 0.7337770477729909\n",
      "recall - 0.654054054054054\n",
      "f1 - 0.6380221788451126\n",
      "For - DT\n",
      "Accuracy - 0.3621621621621622\n",
      "precision - 0.7504140504140503\n",
      "recall - 0.3621621621621622\n",
      "f1 - 0.3687476725541242\n",
      "For - LR\n",
      "Accuracy - 0.44324324324324327\n",
      "precision - 0.42338175628498204\n",
      "recall - 0.44324324324324327\n",
      "f1 - 0.4136212780130061\n",
      "For - RF\n",
      "Accuracy - 0.9783783783783784\n",
      "precision - 0.9805896805896805\n",
      "recall - 0.9783783783783784\n",
      "f1 - 0.978667752478408\n"
     ]
    }
   ],
   "source": [
    "accuracy_scores=[]\n",
    "precision_scores=[]\n",
    "recall_scores=[]\n",
    "f1_scores=[]\n",
    "\n",
    "for name,clf in clfs.items():\n",
    "    current_accuracy,current_precision,current_recall,current_f1=test_classifier(clf,X_res_train,X_res_test,y_res_train,y_res_test)\n",
    "    print(\"For -\",name)\n",
    "    print(\"Accuracy -\",current_accuracy)\n",
    "    print(\"precision -\",current_precision)\n",
    "    print(\"recall -\",current_recall)\n",
    "    print(\"f1 -\",current_f1)\n",
    "    \n",
    "    accuracy_scores.append(current_accuracy)\n",
    "    precision_scores.append(current_precision)\n",
    "    recall_scores.append(current_recall)\n",
    "    f1_scores.append(current_f1)"
   ]
  },
  {
   "cell_type": "code",
   "execution_count": 33,
   "metadata": {},
   "outputs": [
    {
     "data": {
      "text/html": [
       "<div>\n",
       "<style scoped>\n",
       "    .dataframe tbody tr th:only-of-type {\n",
       "        vertical-align: middle;\n",
       "    }\n",
       "\n",
       "    .dataframe tbody tr th {\n",
       "        vertical-align: top;\n",
       "    }\n",
       "\n",
       "    .dataframe thead th {\n",
       "        text-align: right;\n",
       "    }\n",
       "</style>\n",
       "<table border=\"1\" class=\"dataframe\">\n",
       "  <thead>\n",
       "    <tr style=\"text-align: right;\">\n",
       "      <th></th>\n",
       "      <th>Algorithm</th>\n",
       "      <th>Accuracy_Train</th>\n",
       "      <th>precision_Train</th>\n",
       "      <th>recall_Train</th>\n",
       "      <th>f1_Train</th>\n",
       "    </tr>\n",
       "  </thead>\n",
       "  <tbody>\n",
       "    <tr>\n",
       "      <th>3</th>\n",
       "      <td>DT</td>\n",
       "      <td>0.362162</td>\n",
       "      <td>0.750414</td>\n",
       "      <td>0.362162</td>\n",
       "      <td>0.368748</td>\n",
       "    </tr>\n",
       "    <tr>\n",
       "      <th>0</th>\n",
       "      <td>SVC</td>\n",
       "      <td>0.427027</td>\n",
       "      <td>0.456985</td>\n",
       "      <td>0.427027</td>\n",
       "      <td>0.427910</td>\n",
       "    </tr>\n",
       "    <tr>\n",
       "      <th>4</th>\n",
       "      <td>LR</td>\n",
       "      <td>0.443243</td>\n",
       "      <td>0.423382</td>\n",
       "      <td>0.443243</td>\n",
       "      <td>0.413621</td>\n",
       "    </tr>\n",
       "    <tr>\n",
       "      <th>1</th>\n",
       "      <td>KN</td>\n",
       "      <td>0.486486</td>\n",
       "      <td>0.671705</td>\n",
       "      <td>0.486486</td>\n",
       "      <td>0.485956</td>\n",
       "    </tr>\n",
       "    <tr>\n",
       "      <th>2</th>\n",
       "      <td>NB</td>\n",
       "      <td>0.654054</td>\n",
       "      <td>0.733777</td>\n",
       "      <td>0.654054</td>\n",
       "      <td>0.638022</td>\n",
       "    </tr>\n",
       "    <tr>\n",
       "      <th>5</th>\n",
       "      <td>RF</td>\n",
       "      <td>0.978378</td>\n",
       "      <td>0.980590</td>\n",
       "      <td>0.978378</td>\n",
       "      <td>0.978668</td>\n",
       "    </tr>\n",
       "  </tbody>\n",
       "</table>\n",
       "</div>"
      ],
      "text/plain": [
       "  Algorithm  Accuracy_Train  precision_Train  recall_Train  f1_Train\n",
       "3        DT        0.362162         0.750414      0.362162  0.368748\n",
       "0       SVC        0.427027         0.456985      0.427027  0.427910\n",
       "4        LR        0.443243         0.423382      0.443243  0.413621\n",
       "1        KN        0.486486         0.671705      0.486486  0.485956\n",
       "2        NB        0.654054         0.733777      0.654054  0.638022\n",
       "5        RF        0.978378         0.980590      0.978378  0.978668"
      ]
     },
     "execution_count": 33,
     "metadata": {},
     "output_type": "execute_result"
    }
   ],
   "source": [
    "performance_df1=pd.DataFrame({'Algorithm':clfs.keys(),'Accuracy_Train':accuracy_scores,'precision_Train':precision_scores,'recall_Train':recall_scores,'f1_Train':f1_scores}).sort_values('Accuracy_Train',ascending='False')\n",
    "performance_df1"
   ]
  },
  {
   "cell_type": "code",
   "execution_count": 43,
   "metadata": {},
   "outputs": [
    {
     "data": {
      "text/html": [
       "<div>\n",
       "<style scoped>\n",
       "    .dataframe tbody tr th:only-of-type {\n",
       "        vertical-align: middle;\n",
       "    }\n",
       "\n",
       "    .dataframe tbody tr th {\n",
       "        vertical-align: top;\n",
       "    }\n",
       "\n",
       "    .dataframe thead th {\n",
       "        text-align: right;\n",
       "    }\n",
       "</style>\n",
       "<table border=\"1\" class=\"dataframe\">\n",
       "  <thead>\n",
       "    <tr style=\"text-align: right;\">\n",
       "      <th></th>\n",
       "      <th>Algorithm</th>\n",
       "      <th>Accuracy_Test</th>\n",
       "      <th>precision_Test</th>\n",
       "      <th>recall_Test</th>\n",
       "      <th>f1_Test</th>\n",
       "    </tr>\n",
       "  </thead>\n",
       "  <tbody>\n",
       "    <tr>\n",
       "      <th>3</th>\n",
       "      <td>DT</td>\n",
       "      <td>0.362162</td>\n",
       "      <td>0.750414</td>\n",
       "      <td>0.362162</td>\n",
       "      <td>0.368748</td>\n",
       "    </tr>\n",
       "    <tr>\n",
       "      <th>0</th>\n",
       "      <td>SVC</td>\n",
       "      <td>0.427027</td>\n",
       "      <td>0.456985</td>\n",
       "      <td>0.427027</td>\n",
       "      <td>0.427910</td>\n",
       "    </tr>\n",
       "    <tr>\n",
       "      <th>4</th>\n",
       "      <td>LR</td>\n",
       "      <td>0.443243</td>\n",
       "      <td>0.423382</td>\n",
       "      <td>0.443243</td>\n",
       "      <td>0.413621</td>\n",
       "    </tr>\n",
       "    <tr>\n",
       "      <th>1</th>\n",
       "      <td>KN</td>\n",
       "      <td>0.486486</td>\n",
       "      <td>0.671705</td>\n",
       "      <td>0.486486</td>\n",
       "      <td>0.485956</td>\n",
       "    </tr>\n",
       "    <tr>\n",
       "      <th>2</th>\n",
       "      <td>NB</td>\n",
       "      <td>0.654054</td>\n",
       "      <td>0.733777</td>\n",
       "      <td>0.654054</td>\n",
       "      <td>0.638022</td>\n",
       "    </tr>\n",
       "    <tr>\n",
       "      <th>5</th>\n",
       "      <td>RF</td>\n",
       "      <td>0.978378</td>\n",
       "      <td>0.980590</td>\n",
       "      <td>0.978378</td>\n",
       "      <td>0.978668</td>\n",
       "    </tr>\n",
       "  </tbody>\n",
       "</table>\n",
       "</div>"
      ],
      "text/plain": [
       "  Algorithm  Accuracy_Test  precision_Test  recall_Test   f1_Test\n",
       "3        DT       0.362162        0.750414     0.362162  0.368748\n",
       "0       SVC       0.427027        0.456985     0.427027  0.427910\n",
       "4        LR       0.443243        0.423382     0.443243  0.413621\n",
       "1        KN       0.486486        0.671705     0.486486  0.485956\n",
       "2        NB       0.654054        0.733777     0.654054  0.638022\n",
       "5        RF       0.978378        0.980590     0.978378  0.978668"
      ]
     },
     "execution_count": 43,
     "metadata": {},
     "output_type": "execute_result"
    }
   ],
   "source": [
    "performance_df2=pd.DataFrame({'Algorithm':clfs.keys(),'Accuracy_Test':accuracy_scores,'precision_Test':precision_scores,'recall_Test':recall_scores,'f1_Test':f1_scores}).sort_values('Accuracy_Test',ascending='False')\n",
    "performance_df2"
   ]
  },
  {
   "cell_type": "code",
   "execution_count": 44,
   "metadata": {},
   "outputs": [
    {
     "data": {
      "text/html": [
       "<div>\n",
       "<style scoped>\n",
       "    .dataframe tbody tr th:only-of-type {\n",
       "        vertical-align: middle;\n",
       "    }\n",
       "\n",
       "    .dataframe tbody tr th {\n",
       "        vertical-align: top;\n",
       "    }\n",
       "\n",
       "    .dataframe thead th {\n",
       "        text-align: right;\n",
       "    }\n",
       "</style>\n",
       "<table border=\"1\" class=\"dataframe\">\n",
       "  <thead>\n",
       "    <tr style=\"text-align: right;\">\n",
       "      <th></th>\n",
       "      <th>Algorithm</th>\n",
       "      <th>Accuracy_Train</th>\n",
       "      <th>precision_Train</th>\n",
       "      <th>recall_Train</th>\n",
       "      <th>f1_Train</th>\n",
       "      <th>Accuracy_Test</th>\n",
       "      <th>precision_Test</th>\n",
       "      <th>recall_Test</th>\n",
       "      <th>f1_Test</th>\n",
       "    </tr>\n",
       "  </thead>\n",
       "  <tbody>\n",
       "    <tr>\n",
       "      <th>0</th>\n",
       "      <td>DT</td>\n",
       "      <td>0.362162</td>\n",
       "      <td>0.750414</td>\n",
       "      <td>0.362162</td>\n",
       "      <td>0.368748</td>\n",
       "      <td>0.362162</td>\n",
       "      <td>0.750414</td>\n",
       "      <td>0.362162</td>\n",
       "      <td>0.368748</td>\n",
       "    </tr>\n",
       "    <tr>\n",
       "      <th>1</th>\n",
       "      <td>SVC</td>\n",
       "      <td>0.427027</td>\n",
       "      <td>0.456985</td>\n",
       "      <td>0.427027</td>\n",
       "      <td>0.427910</td>\n",
       "      <td>0.427027</td>\n",
       "      <td>0.456985</td>\n",
       "      <td>0.427027</td>\n",
       "      <td>0.427910</td>\n",
       "    </tr>\n",
       "    <tr>\n",
       "      <th>2</th>\n",
       "      <td>LR</td>\n",
       "      <td>0.443243</td>\n",
       "      <td>0.423382</td>\n",
       "      <td>0.443243</td>\n",
       "      <td>0.413621</td>\n",
       "      <td>0.443243</td>\n",
       "      <td>0.423382</td>\n",
       "      <td>0.443243</td>\n",
       "      <td>0.413621</td>\n",
       "    </tr>\n",
       "    <tr>\n",
       "      <th>3</th>\n",
       "      <td>KN</td>\n",
       "      <td>0.486486</td>\n",
       "      <td>0.671705</td>\n",
       "      <td>0.486486</td>\n",
       "      <td>0.485956</td>\n",
       "      <td>0.486486</td>\n",
       "      <td>0.671705</td>\n",
       "      <td>0.486486</td>\n",
       "      <td>0.485956</td>\n",
       "    </tr>\n",
       "    <tr>\n",
       "      <th>4</th>\n",
       "      <td>NB</td>\n",
       "      <td>0.654054</td>\n",
       "      <td>0.733777</td>\n",
       "      <td>0.654054</td>\n",
       "      <td>0.638022</td>\n",
       "      <td>0.654054</td>\n",
       "      <td>0.733777</td>\n",
       "      <td>0.654054</td>\n",
       "      <td>0.638022</td>\n",
       "    </tr>\n",
       "    <tr>\n",
       "      <th>5</th>\n",
       "      <td>RF</td>\n",
       "      <td>0.978378</td>\n",
       "      <td>0.980590</td>\n",
       "      <td>0.978378</td>\n",
       "      <td>0.978668</td>\n",
       "      <td>0.978378</td>\n",
       "      <td>0.980590</td>\n",
       "      <td>0.978378</td>\n",
       "      <td>0.978668</td>\n",
       "    </tr>\n",
       "  </tbody>\n",
       "</table>\n",
       "</div>"
      ],
      "text/plain": [
       "  Algorithm  Accuracy_Train  precision_Train  recall_Train  f1_Train  \\\n",
       "0        DT        0.362162         0.750414      0.362162  0.368748   \n",
       "1       SVC        0.427027         0.456985      0.427027  0.427910   \n",
       "2        LR        0.443243         0.423382      0.443243  0.413621   \n",
       "3        KN        0.486486         0.671705      0.486486  0.485956   \n",
       "4        NB        0.654054         0.733777      0.654054  0.638022   \n",
       "5        RF        0.978378         0.980590      0.978378  0.978668   \n",
       "\n",
       "   Accuracy_Test  precision_Test  recall_Test   f1_Test  \n",
       "0       0.362162        0.750414     0.362162  0.368748  \n",
       "1       0.427027        0.456985     0.427027  0.427910  \n",
       "2       0.443243        0.423382     0.443243  0.413621  \n",
       "3       0.486486        0.671705     0.486486  0.485956  \n",
       "4       0.654054        0.733777     0.654054  0.638022  \n",
       "5       0.978378        0.980590     0.978378  0.978668  "
      ]
     },
     "execution_count": 44,
     "metadata": {},
     "output_type": "execute_result"
    }
   ],
   "source": [
    "performance_df1.merge(performance_df2,on='Algorithm')"
   ]
  },
  {
   "cell_type": "code",
   "execution_count": 36,
   "metadata": {},
   "outputs": [
    {
     "name": "stdout",
     "output_type": "stream",
     "text": [
      "0.9553450608930988\n",
      "0.9553450608930988\n",
      "0.9621915485093682\n",
      "0.9567371200333062\n"
     ]
    }
   ],
   "source": [
    "rfc=RandomForestClassifier(n_estimators=50,random_state=2)\n",
    "rfc.fit(X_res_train, y_res_train)\n",
    "y_pred=rfc.predict(X_res_train)\n",
    "print(accuracy_score(y_res_train,y_pred))\n",
    "print(recall_score(y_res_train,y_pred,average='weighted'))\n",
    "print(precision_score(y_res_train,y_pred,average='weighted'))\n",
    "print(f1_score(y_res_train,y_pred,average='weighted'))"
   ]
  },
  {
   "cell_type": "code",
   "execution_count": 37,
   "metadata": {},
   "outputs": [],
   "source": [
    "pickle.dump(rfc,open('model.pkl','wb'))"
   ]
  },
  {
   "cell_type": "code",
   "execution_count": 38,
   "metadata": {},
   "outputs": [
    {
     "name": "stdout",
     "output_type": "stream",
     "text": [
      "<bound method ForestClassifier.predict of RandomForestClassifier(n_estimators=50, random_state=2)>\n"
     ]
    }
   ],
   "source": [
    "model = pickle.load(open('model.pkl','rb'))\n",
    "print(model.predict)"
   ]
  },
  {
   "cell_type": "code",
   "execution_count": 39,
   "metadata": {},
   "outputs": [],
   "source": [
    "pickle.dump(data,open('model1.pkl','wb'))"
   ]
  },
  {
   "cell_type": "code",
   "execution_count": 40,
   "metadata": {},
   "outputs": [
    {
     "data": {
      "text/html": [
       "<div>\n",
       "<style scoped>\n",
       "    .dataframe tbody tr th:only-of-type {\n",
       "        vertical-align: middle;\n",
       "    }\n",
       "\n",
       "    .dataframe tbody tr th {\n",
       "        vertical-align: top;\n",
       "    }\n",
       "\n",
       "    .dataframe thead th {\n",
       "        text-align: right;\n",
       "    }\n",
       "</style>\n",
       "<table border=\"1\" class=\"dataframe\">\n",
       "  <thead>\n",
       "    <tr style=\"text-align: right;\">\n",
       "      <th></th>\n",
       "      <th>Books</th>\n",
       "      <th>Author</th>\n",
       "      <th>Abstract</th>\n",
       "      <th>category</th>\n",
       "      <th>transformed_text</th>\n",
       "    </tr>\n",
       "  </thead>\n",
       "  <tbody>\n",
       "    <tr>\n",
       "      <th>0</th>\n",
       "      <td>The Poisoned Pen</td>\n",
       "      <td>Arthur B.  Reeve</td>\n",
       "      <td>Kennedy's Suit-Case Was Lying Open On The Bed,...</td>\n",
       "      <td>10</td>\n",
       "      <td>kennedi lie open bed liter throw thing chiffon...</td>\n",
       "    </tr>\n",
       "    <tr>\n",
       "      <th>1</th>\n",
       "      <td>The History Of A Crime (fiscle part- 4) The Te...</td>\n",
       "      <td>Victor Hugo</td>\n",
       "      <td>On December 1, 1851, Charras[1] Shrugged his S...</td>\n",
       "      <td>10</td>\n",
       "      <td>decemb 1 1851 charra 1 shrug shoulder unload p...</td>\n",
       "    </tr>\n",
       "    <tr>\n",
       "      <th>2</th>\n",
       "      <td>Grimshaw Mysteries</td>\n",
       "      <td>Kyler James</td>\n",
       "      <td>Rick grimshaw is an old school detective in a ...</td>\n",
       "      <td>10</td>\n",
       "      <td>rick grimshaw old school detect new world tech...</td>\n",
       "    </tr>\n",
       "    <tr>\n",
       "      <th>3</th>\n",
       "      <td>Maiwa's Revenge</td>\n",
       "      <td>H. Rider Haggard</td>\n",
       "      <td>Sir Henry Rider Haggard, KBE (/ˈhæɡərd/; 22 Ju...</td>\n",
       "      <td>10</td>\n",
       "      <td>sir henri rider haggard kbe 22 june 1856 14 ma...</td>\n",
       "    </tr>\n",
       "    <tr>\n",
       "      <th>4</th>\n",
       "      <td>Little Too Obsessed</td>\n",
       "      <td>Ashley Arble</td>\n",
       "      <td>Danika, a young teenager, can't wait to have k...</td>\n",
       "      <td>10</td>\n",
       "      <td>danika young teenag ca wait kid buy babi doll ...</td>\n",
       "    </tr>\n",
       "    <tr>\n",
       "      <th>...</th>\n",
       "      <td>...</td>\n",
       "      <td>...</td>\n",
       "      <td>...</td>\n",
       "      <td>...</td>\n",
       "      <td>...</td>\n",
       "    </tr>\n",
       "    <tr>\n",
       "      <th>589</th>\n",
       "      <td>Alt Text Writing</td>\n",
       "      <td>Kalai Selvi  Arivalagan</td>\n",
       "      <td>How to write better Alt Text - a branch in con...</td>\n",
       "      <td>7</td>\n",
       "      <td>write better alt text branch content write ide...</td>\n",
       "    </tr>\n",
       "    <tr>\n",
       "      <th>590</th>\n",
       "      <td>REPORT ANALYSIS: MAGAZINES IN PAKISTAN</td>\n",
       "      <td>Muhammad Sharjeel Ashraf, Sundus Haseeb, Wajee...</td>\n",
       "      <td>The book contains a report on survey conducted...</td>\n",
       "      <td>7</td>\n",
       "      <td>book contain report survey conduct univers kar...</td>\n",
       "    </tr>\n",
       "    <tr>\n",
       "      <th>591</th>\n",
       "      <td>Advice to a Mother on the Management of her Ch...</td>\n",
       "      <td>Pye Henry  Chavasse</td>\n",
       "      <td>An infant's clothes, napkins especially, ought...</td>\n",
       "      <td>7</td>\n",
       "      <td>infant cloth napkin especi ought never wash so...</td>\n",
       "    </tr>\n",
       "    <tr>\n",
       "      <th>592</th>\n",
       "      <td>The Head Voice and Other Problems Practical Ta...</td>\n",
       "      <td>D. A.  Clippinger</td>\n",
       "      <td>The following chapters are the outgrowth of an...</td>\n",
       "      <td>7</td>\n",
       "      <td>follow chapter outgrowth enthusiasm work voic ...</td>\n",
       "    </tr>\n",
       "    <tr>\n",
       "      <th>593</th>\n",
       "      <td>The Romance of Names</td>\n",
       "      <td>Ernest  Weekley</td>\n",
       "      <td>Ernest Weekley (27 April 1865 – 7 May 1954) wa...</td>\n",
       "      <td>7</td>\n",
       "      <td>ernest weekley 27 april 1865 7 may 1954 britis...</td>\n",
       "    </tr>\n",
       "  </tbody>\n",
       "</table>\n",
       "<p>594 rows × 5 columns</p>\n",
       "</div>"
      ],
      "text/plain": [
       "                                                 Books  \\\n",
       "0                                     The Poisoned Pen   \n",
       "1    The History Of A Crime (fiscle part- 4) The Te...   \n",
       "2                                   Grimshaw Mysteries   \n",
       "3                                      Maiwa's Revenge   \n",
       "4                                  Little Too Obsessed   \n",
       "..                                                 ...   \n",
       "589                                   Alt Text Writing   \n",
       "590             REPORT ANALYSIS: MAGAZINES IN PAKISTAN   \n",
       "591  Advice to a Mother on the Management of her Ch...   \n",
       "592  The Head Voice and Other Problems Practical Ta...   \n",
       "593                               The Romance of Names   \n",
       "\n",
       "                                                Author  \\\n",
       "0                                     Arthur B.  Reeve   \n",
       "1                                          Victor Hugo   \n",
       "2                                          Kyler James   \n",
       "3                                     H. Rider Haggard   \n",
       "4                                         Ashley Arble   \n",
       "..                                                 ...   \n",
       "589                            Kalai Selvi  Arivalagan   \n",
       "590  Muhammad Sharjeel Ashraf, Sundus Haseeb, Wajee...   \n",
       "591                                Pye Henry  Chavasse   \n",
       "592                                  D. A.  Clippinger   \n",
       "593                                    Ernest  Weekley   \n",
       "\n",
       "                                              Abstract  category  \\\n",
       "0    Kennedy's Suit-Case Was Lying Open On The Bed,...        10   \n",
       "1    On December 1, 1851, Charras[1] Shrugged his S...        10   \n",
       "2    Rick grimshaw is an old school detective in a ...        10   \n",
       "3    Sir Henry Rider Haggard, KBE (/ˈhæɡərd/; 22 Ju...        10   \n",
       "4    Danika, a young teenager, can't wait to have k...        10   \n",
       "..                                                 ...       ...   \n",
       "589  How to write better Alt Text - a branch in con...         7   \n",
       "590  The book contains a report on survey conducted...         7   \n",
       "591  An infant's clothes, napkins especially, ought...         7   \n",
       "592  The following chapters are the outgrowth of an...         7   \n",
       "593  Ernest Weekley (27 April 1865 – 7 May 1954) wa...         7   \n",
       "\n",
       "                                      transformed_text  \n",
       "0    kennedi lie open bed liter throw thing chiffon...  \n",
       "1    decemb 1 1851 charra 1 shrug shoulder unload p...  \n",
       "2    rick grimshaw old school detect new world tech...  \n",
       "3    sir henri rider haggard kbe 22 june 1856 14 ma...  \n",
       "4    danika young teenag ca wait kid buy babi doll ...  \n",
       "..                                                 ...  \n",
       "589  write better alt text branch content write ide...  \n",
       "590  book contain report survey conduct univers kar...  \n",
       "591  infant cloth napkin especi ought never wash so...  \n",
       "592  follow chapter outgrowth enthusiasm work voic ...  \n",
       "593  ernest weekley 27 april 1865 7 may 1954 britis...  \n",
       "\n",
       "[594 rows x 5 columns]"
      ]
     },
     "execution_count": 40,
     "metadata": {},
     "output_type": "execute_result"
    }
   ],
   "source": [
    "model1 = pickle.load(open('model1.pkl','rb'))\n",
    "model1"
   ]
  },
  {
   "cell_type": "code",
   "execution_count": 41,
   "metadata": {},
   "outputs": [],
   "source": [
    "pickle.dump(vectorizer,open('model2-transform.pkl','wb'))"
   ]
  },
  {
   "cell_type": "code",
   "execution_count": 42,
   "metadata": {},
   "outputs": [
    {
     "data": {
      "text/plain": [
       "TfidfVectorizer(max_features=100)"
      ]
     },
     "execution_count": 42,
     "metadata": {},
     "output_type": "execute_result"
    }
   ],
   "source": [
    "model2 = pickle.load(open('model2-transform.pkl','rb'))\n",
    "model2"
   ]
  },
  {
   "cell_type": "code",
   "execution_count": null,
   "metadata": {},
   "outputs": [],
   "source": []
  }
 ],
 "metadata": {
  "kernelspec": {
   "display_name": "Python 3",
   "language": "python",
   "name": "python3"
  },
  "language_info": {
   "codemirror_mode": {
    "name": "ipython",
    "version": 3
   },
   "file_extension": ".py",
   "mimetype": "text/x-python",
   "name": "python",
   "nbconvert_exporter": "python",
   "pygments_lexer": "ipython3",
   "version": "3.8.5"
  }
 },
 "nbformat": 4,
 "nbformat_minor": 4
}
